{
 "cells": [
  {
   "cell_type": "code",
   "execution_count": 1,
   "id": "2a6c3721",
   "metadata": {},
   "outputs": [],
   "source": [
    "import pandas as pd\n",
    "import matplotlib.pyplot as plt\n",
    "\n",
    "%matplotlib inline"
   ]
  },
  {
   "cell_type": "code",
   "execution_count": 2,
   "id": "fd5d7d36",
   "metadata": {},
   "outputs": [],
   "source": [
    "#Loading Data\n",
    "\n",
    "channel = pd.read_csv(r'C:\\Users\\User\\Downloads\\data_assignment\\channel.csv')\n",
    "orders = pd.read_csv(r'C:\\Users\\User\\Downloads\\data_assignment\\orders.csv')\n",
    "alt_mat_master = pd.read_csv(r'C:\\Users\\User\\Downloads\\data_assignment\\alt_mat_master.csv')\n",
    "mat_master = pd.read_csv(r'C:\\Users\\User\\Downloads\\data_assignment\\mat_master.csv')\n",
    "member = pd.read_csv(r'C:\\Users\\User\\Downloads\\data_assignment\\member.csv')\n",
    "\n",
    "\n",
    "\n",
    "\n",
    "\n"
   ]
  },
  {
   "cell_type": "code",
   "execution_count": 3,
   "id": "cb1d700d",
   "metadata": {},
   "outputs": [
    {
     "data": {
      "text/plain": [
       "(1048575, 16)"
      ]
     },
     "execution_count": 3,
     "metadata": {},
     "output_type": "execute_result"
    }
   ],
   "source": [
    "orders.shape"
   ]
  },
  {
   "cell_type": "code",
   "execution_count": 4,
   "id": "b923d90d",
   "metadata": {},
   "outputs": [],
   "source": [
    "#Merging tables\n",
    "output1 = pd.merge(orders, member, on='MEMBERNO', how='left')"
   ]
  },
  {
   "cell_type": "code",
   "execution_count": 5,
   "id": "20e79c5e",
   "metadata": {},
   "outputs": [],
   "source": [
    "output2 = pd.merge(output1, channel, on='CHNL', how='left')"
   ]
  },
  {
   "cell_type": "code",
   "execution_count": 6,
   "id": "999050a2",
   "metadata": {},
   "outputs": [],
   "source": [
    "output3 = pd.merge(output2, mat_master, on='MATERIAL', how='left')"
   ]
  },
  {
   "cell_type": "code",
   "execution_count": 7,
   "id": "3195575b",
   "metadata": {},
   "outputs": [],
   "source": [
    "output4 = pd.merge(output3, alt_mat_master, on='MATERIAL', how='left')"
   ]
  },
  {
   "cell_type": "code",
   "execution_count": 8,
   "id": "79ee91c8",
   "metadata": {},
   "outputs": [
    {
     "name": "stdout",
     "output_type": "stream",
     "text": [
      "(1048575, 30)\n"
     ]
    },
    {
     "data": {
      "text/plain": [
       "(3068972, 34)"
      ]
     },
     "execution_count": 8,
     "metadata": {},
     "output_type": "execute_result"
    }
   ],
   "source": [
    "print(output3.shape)\n",
    "output4.shape\n"
   ]
  },
  {
   "cell_type": "code",
   "execution_count": 9,
   "id": "90ef11c5",
   "metadata": {},
   "outputs": [],
   "source": [
    "#output3.to_csv(\"merged_orders.csv\")"
   ]
  },
  {
   "cell_type": "code",
   "execution_count": 10,
   "id": "e0cb481f",
   "metadata": {},
   "outputs": [
    {
     "name": "stdout",
     "output_type": "stream",
     "text": [
      "<class 'pandas.core.frame.DataFrame'>\n",
      "Int64Index: 1048575 entries, 0 to 1048574\n",
      "Data columns (total 30 columns):\n",
      " #   Column               Non-Null Count    Dtype  \n",
      "---  ------               --------------    -----  \n",
      " 0   MEMBERNO             1048575 non-null  object \n",
      " 1   POSTCODE             73932 non-null    float64\n",
      " 2   INVOICEDATE          1048575 non-null  int64  \n",
      " 3   CHNL                 1048575 non-null  int64  \n",
      " 4   INVNO                1048575 non-null  int64  \n",
      " 5   ORDERNO              1048575 non-null  int64  \n",
      " 6   CUSTNO               1048575 non-null  int64  \n",
      " 7   CUSTNAME             1048575 non-null  object \n",
      " 8   MATERIAL             1048575 non-null  int64  \n",
      " 9   DESCRIPTION_x        934643 non-null   object \n",
      " 10  BRAND_x              933348 non-null   object \n",
      " 11  QTY                  1048575 non-null  float64\n",
      " 12  UOM                  1048575 non-null  object \n",
      " 13  QTY_BASEUOM          1048575 non-null  float64\n",
      " 14  BASEUOM_x            1048575 non-null  object \n",
      " 15  NETVALUE             1048575 non-null  float64\n",
      " 16  customer_group_code  1048178 non-null  object \n",
      " 17  CHNL_CODE            1048575 non-null  int64  \n",
      " 18  CHANNEL              1048575 non-null  object \n",
      " 19  CHANNEL_DETAIL       1048575 non-null  object \n",
      " 20  DESCRIPTION_y        1048575 non-null  object \n",
      " 21  H1                   1048575 non-null  object \n",
      " 22  H2                   1048575 non-null  object \n",
      " 23  H3                   1048575 non-null  object \n",
      " 24  BASEUOM_y            1048575 non-null  object \n",
      " 25  COUNTRY              1025741 non-null  object \n",
      " 26  BRAND_y              1047280 non-null  object \n",
      " 27  PACKING              1034371 non-null  object \n",
      " 28  CREATED              1048575 non-null  int64  \n",
      " 29  TEMP                 1044941 non-null  object \n",
      "dtypes: float64(4), int64(8), object(18)\n",
      "memory usage: 248.0+ MB\n"
     ]
    }
   ],
   "source": [
    "output3.info()"
   ]
  },
  {
   "cell_type": "code",
   "execution_count": 11,
   "id": "f9f5fdd5",
   "metadata": {},
   "outputs": [
    {
     "name": "stdout",
     "output_type": "stream",
     "text": [
      "<class 'pandas.core.frame.DataFrame'>\n",
      "Int64Index: 1048575 entries, 0 to 1048574\n",
      "Data columns (total 27 columns):\n",
      " #   Column               Non-Null Count    Dtype  \n",
      "---  ------               --------------    -----  \n",
      " 0   MEMBERNO             1048575 non-null  object \n",
      " 1   POSTCODE             73932 non-null    float64\n",
      " 2   INVOICEDATE          1048575 non-null  int64  \n",
      " 3   CHNL                 1048575 non-null  int64  \n",
      " 4   INVNO                1048575 non-null  int64  \n",
      " 5   ORDERNO              1048575 non-null  int64  \n",
      " 6   CUSTNO               1048575 non-null  int64  \n",
      " 7   CUSTNAME             1048575 non-null  object \n",
      " 8   MATERIAL             1048575 non-null  int64  \n",
      " 9   DESCRIPTION_x        934643 non-null   object \n",
      " 10  BRAND_x              933348 non-null   object \n",
      " 11  QTY                  1048575 non-null  float64\n",
      " 12  UOM                  1048575 non-null  object \n",
      " 13  QTY_BASEUOM          1048575 non-null  float64\n",
      " 14  BASEUOM_x            1048575 non-null  object \n",
      " 15  NETVALUE             1048575 non-null  float64\n",
      " 16  customer_group_code  1048178 non-null  object \n",
      " 17  CHNL_CODE            1048575 non-null  int64  \n",
      " 18  CHANNEL              1048575 non-null  object \n",
      " 19  CHANNEL_DETAIL       1048575 non-null  object \n",
      " 20  H1                   1048575 non-null  object \n",
      " 21  H2                   1048575 non-null  object \n",
      " 22  H3                   1048575 non-null  object \n",
      " 23  COUNTRY              1025741 non-null  object \n",
      " 24  PACKING              1034371 non-null  object \n",
      " 25  CREATED              1048575 non-null  int64  \n",
      " 26  TEMP                 1044941 non-null  object \n",
      "dtypes: float64(4), int64(8), object(15)\n",
      "memory usage: 224.0+ MB\n"
     ]
    }
   ],
   "source": [
    "#Remove duplicate columns\n",
    "output3.drop(['DESCRIPTION_y', 'BRAND_y', 'BASEUOM_y'], axis=1, inplace=True)\n",
    "output3.info()"
   ]
  },
  {
   "cell_type": "code",
   "execution_count": 12,
   "id": "c74c1138",
   "metadata": {},
   "outputs": [],
   "source": [
    "#output3.to_csv(\"merged_orders2.csv\")"
   ]
  },
  {
   "cell_type": "code",
   "execution_count": 13,
   "id": "05eab4a2",
   "metadata": {},
   "outputs": [
    {
     "data": {
      "text/html": [
       "<div>\n",
       "<style scoped>\n",
       "    .dataframe tbody tr th:only-of-type {\n",
       "        vertical-align: middle;\n",
       "    }\n",
       "\n",
       "    .dataframe tbody tr th {\n",
       "        vertical-align: top;\n",
       "    }\n",
       "\n",
       "    .dataframe thead th {\n",
       "        text-align: right;\n",
       "    }\n",
       "</style>\n",
       "<table border=\"1\" class=\"dataframe\">\n",
       "  <thead>\n",
       "    <tr style=\"text-align: right;\">\n",
       "      <th></th>\n",
       "      <th>POSTCODE</th>\n",
       "      <th>INVOICEDATE</th>\n",
       "      <th>CHNL</th>\n",
       "      <th>INVNO</th>\n",
       "      <th>ORDERNO</th>\n",
       "      <th>CUSTNO</th>\n",
       "      <th>MATERIAL</th>\n",
       "      <th>QTY</th>\n",
       "      <th>QTY_BASEUOM</th>\n",
       "      <th>NETVALUE</th>\n",
       "      <th>CHNL_CODE</th>\n",
       "      <th>CREATED</th>\n",
       "    </tr>\n",
       "  </thead>\n",
       "  <tbody>\n",
       "    <tr>\n",
       "      <th>count</th>\n",
       "      <td>73932.000000</td>\n",
       "      <td>1.048575e+06</td>\n",
       "      <td>1.048575e+06</td>\n",
       "      <td>1.048575e+06</td>\n",
       "      <td>1.048575e+06</td>\n",
       "      <td>1.048575e+06</td>\n",
       "      <td>1.048575e+06</td>\n",
       "      <td>1.048575e+06</td>\n",
       "      <td>1.048575e+06</td>\n",
       "      <td>1.048575e+06</td>\n",
       "      <td>1.048575e+06</td>\n",
       "      <td>1.048575e+06</td>\n",
       "    </tr>\n",
       "    <tr>\n",
       "      <th>mean</th>\n",
       "      <td>504917.574122</td>\n",
       "      <td>2.021174e+07</td>\n",
       "      <td>3.008154e+01</td>\n",
       "      <td>4.982420e+08</td>\n",
       "      <td>5.297236e+09</td>\n",
       "      <td>1.485926e+07</td>\n",
       "      <td>5.574943e+04</td>\n",
       "      <td>1.502765e+00</td>\n",
       "      <td>1.722823e+00</td>\n",
       "      <td>7.993538e+00</td>\n",
       "      <td>3.008154e+01</td>\n",
       "      <td>2.018376e+07</td>\n",
       "    </tr>\n",
       "    <tr>\n",
       "      <th>std</th>\n",
       "      <td>200025.481612</td>\n",
       "      <td>3.251295e+03</td>\n",
       "      <td>4.304346e-01</td>\n",
       "      <td>3.034274e+07</td>\n",
       "      <td>6.122489e+07</td>\n",
       "      <td>5.120532e+05</td>\n",
       "      <td>4.641463e+04</td>\n",
       "      <td>2.065781e+00</td>\n",
       "      <td>4.617283e+00</td>\n",
       "      <td>1.543466e+01</td>\n",
       "      <td>4.304346e-01</td>\n",
       "      <td>7.409133e+03</td>\n",
       "    </tr>\n",
       "    <tr>\n",
       "      <th>min</th>\n",
       "      <td>18935.000000</td>\n",
       "      <td>2.021010e+07</td>\n",
       "      <td>3.000000e+01</td>\n",
       "      <td>4.000468e+08</td>\n",
       "      <td>6.000018e+07</td>\n",
       "      <td>1.300000e+07</td>\n",
       "      <td>1.010000e+02</td>\n",
       "      <td>-1.000000e+02</td>\n",
       "      <td>-2.010000e+02</td>\n",
       "      <td>-3.481300e+02</td>\n",
       "      <td>3.000000e+01</td>\n",
       "      <td>2.018062e+07</td>\n",
       "    </tr>\n",
       "    <tr>\n",
       "      <th>25%</th>\n",
       "      <td>357920.000000</td>\n",
       "      <td>2.021033e+07</td>\n",
       "      <td>3.000000e+01</td>\n",
       "      <td>5.045764e+08</td>\n",
       "      <td>5.304577e+09</td>\n",
       "      <td>1.500005e+07</td>\n",
       "      <td>1.259700e+04</td>\n",
       "      <td>1.000000e+00</td>\n",
       "      <td>1.000000e+00</td>\n",
       "      <td>2.430000e+00</td>\n",
       "      <td>3.000000e+01</td>\n",
       "      <td>2.018062e+07</td>\n",
       "    </tr>\n",
       "    <tr>\n",
       "      <th>50%</th>\n",
       "      <td>534678.000000</td>\n",
       "      <td>2.021051e+07</td>\n",
       "      <td>3.000000e+01</td>\n",
       "      <td>5.048087e+08</td>\n",
       "      <td>5.304810e+09</td>\n",
       "      <td>1.500030e+07</td>\n",
       "      <td>5.840800e+04</td>\n",
       "      <td>1.000000e+00</td>\n",
       "      <td>1.000000e+00</td>\n",
       "      <td>4.490000e+00</td>\n",
       "      <td>3.000000e+01</td>\n",
       "      <td>2.018062e+07</td>\n",
       "    </tr>\n",
       "    <tr>\n",
       "      <th>75%</th>\n",
       "      <td>651442.000000</td>\n",
       "      <td>2.021062e+07</td>\n",
       "      <td>3.000000e+01</td>\n",
       "      <td>5.050555e+08</td>\n",
       "      <td>5.305057e+09</td>\n",
       "      <td>1.500050e+07</td>\n",
       "      <td>6.799300e+04</td>\n",
       "      <td>1.000000e+00</td>\n",
       "      <td>1.000000e+00</td>\n",
       "      <td>8.690000e+00</td>\n",
       "      <td>3.000000e+01</td>\n",
       "      <td>2.018062e+07</td>\n",
       "    </tr>\n",
       "    <tr>\n",
       "      <th>max</th>\n",
       "      <td>829699.000000</td>\n",
       "      <td>2.022032e+07</td>\n",
       "      <td>4.000000e+01</td>\n",
       "      <td>8.400008e+08</td>\n",
       "      <td>5.400046e+09</td>\n",
       "      <td>1.500060e+07</td>\n",
       "      <td>5.001390e+05</td>\n",
       "      <td>3.000000e+02</td>\n",
       "      <td>5.760000e+02</td>\n",
       "      <td>1.822430e+03</td>\n",
       "      <td>4.000000e+01</td>\n",
       "      <td>2.022022e+07</td>\n",
       "    </tr>\n",
       "  </tbody>\n",
       "</table>\n",
       "</div>"
      ],
      "text/plain": [
       "            POSTCODE   INVOICEDATE          CHNL         INVNO       ORDERNO  \\\n",
       "count   73932.000000  1.048575e+06  1.048575e+06  1.048575e+06  1.048575e+06   \n",
       "mean   504917.574122  2.021174e+07  3.008154e+01  4.982420e+08  5.297236e+09   \n",
       "std    200025.481612  3.251295e+03  4.304346e-01  3.034274e+07  6.122489e+07   \n",
       "min     18935.000000  2.021010e+07  3.000000e+01  4.000468e+08  6.000018e+07   \n",
       "25%    357920.000000  2.021033e+07  3.000000e+01  5.045764e+08  5.304577e+09   \n",
       "50%    534678.000000  2.021051e+07  3.000000e+01  5.048087e+08  5.304810e+09   \n",
       "75%    651442.000000  2.021062e+07  3.000000e+01  5.050555e+08  5.305057e+09   \n",
       "max    829699.000000  2.022032e+07  4.000000e+01  8.400008e+08  5.400046e+09   \n",
       "\n",
       "             CUSTNO      MATERIAL           QTY   QTY_BASEUOM      NETVALUE  \\\n",
       "count  1.048575e+06  1.048575e+06  1.048575e+06  1.048575e+06  1.048575e+06   \n",
       "mean   1.485926e+07  5.574943e+04  1.502765e+00  1.722823e+00  7.993538e+00   \n",
       "std    5.120532e+05  4.641463e+04  2.065781e+00  4.617283e+00  1.543466e+01   \n",
       "min    1.300000e+07  1.010000e+02 -1.000000e+02 -2.010000e+02 -3.481300e+02   \n",
       "25%    1.500005e+07  1.259700e+04  1.000000e+00  1.000000e+00  2.430000e+00   \n",
       "50%    1.500030e+07  5.840800e+04  1.000000e+00  1.000000e+00  4.490000e+00   \n",
       "75%    1.500050e+07  6.799300e+04  1.000000e+00  1.000000e+00  8.690000e+00   \n",
       "max    1.500060e+07  5.001390e+05  3.000000e+02  5.760000e+02  1.822430e+03   \n",
       "\n",
       "          CHNL_CODE       CREATED  \n",
       "count  1.048575e+06  1.048575e+06  \n",
       "mean   3.008154e+01  2.018376e+07  \n",
       "std    4.304346e-01  7.409133e+03  \n",
       "min    3.000000e+01  2.018062e+07  \n",
       "25%    3.000000e+01  2.018062e+07  \n",
       "50%    3.000000e+01  2.018062e+07  \n",
       "75%    3.000000e+01  2.018062e+07  \n",
       "max    4.000000e+01  2.022022e+07  "
      ]
     },
     "execution_count": 13,
     "metadata": {},
     "output_type": "execute_result"
    }
   ],
   "source": [
    "output3.describe()"
   ]
  },
  {
   "cell_type": "code",
   "execution_count": 14,
   "id": "aa6b636d",
   "metadata": {},
   "outputs": [
    {
     "name": "stdout",
     "output_type": "stream",
     "text": [
      "test\n"
     ]
    }
   ],
   "source": [
    "print('test')"
   ]
  },
  {
   "cell_type": "code",
   "execution_count": 16,
   "id": "288733b5",
   "metadata": {},
   "outputs": [
    {
     "data": {
      "text/plain": [
       "<AxesSubplot:xlabel='CUSTNAME'>"
      ]
     },
     "execution_count": 16,
     "metadata": {},
     "output_type": "execute_result"
    },
    {
     "data": {
      "image/png": "[encoded data removed]",
      "text/plain": [
       "<Figure size 1008x432 with 1 Axes>"
      ]
     },
     "metadata": {
      "needs_background": "light"
     },
     "output_type": "display_data"
    }
   ],
   "source": [
    "#Sales by location\n",
    "output3.groupby('CUSTNAME')['QTY'].sum().plot(kind='bar', figsize=(14,6))"
   ]
  },
  {
   "cell_type": "code",
   "execution_count": null,
   "id": "2e359a18",
   "metadata": {},
   "outputs": [],
   "source": []
  }
 ],
 "metadata": {
  "kernelspec": {
   "display_name": "Python 3 (ipykernel)",
   "language": "python",
   "name": "python3"
  },
  "language_info": {
   "codemirror_mode": {
    "name": "ipython",
    "version": 3
   },
   "file_extension": ".py",
   "mimetype": "text/x-python",
   "name": "python",
   "nbconvert_exporter": "python",
   "pygments_lexer": "ipython3",
   "version": "3.9.7"
  }
 },
 "nbformat": 4,
 "nbformat_minor": 5
}
